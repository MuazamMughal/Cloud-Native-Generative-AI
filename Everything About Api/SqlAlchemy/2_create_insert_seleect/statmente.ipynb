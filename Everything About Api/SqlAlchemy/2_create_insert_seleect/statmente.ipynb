{
 "cells": [
  {
   "cell_type": "markdown",
   "id": "8c9374b0",
   "metadata": {},
   "source": [
    "## Committing Changes and Basics of Statement Execution\n",
    "https://docs.sqlalchemy.org/en/20/tutorial/dbapi_transactions.html#committing-changes\n",
    "\n",
    "https://docs.sqlalchemy.org/en/20/tutorial/dbapi_transactions.html#basics-of-statement-execution"
   ]
  },
  {
   "cell_type": "markdown",
   "id": "59e1769a",
   "metadata": {},
   "source": []
  }
 ],
 "metadata": {
  "kernelspec": {
   "display_name": "python12",
   "language": "python",
   "name": "python3"
  },
  "language_info": {
   "name": "python",
   "version": "3.12.0"
  }
 },
 "nbformat": 4,
 "nbformat_minor": 5
}
