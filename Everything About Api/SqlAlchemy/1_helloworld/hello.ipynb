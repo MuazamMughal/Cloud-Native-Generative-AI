{
 "cells": [
  {
   "cell_type": "markdown",
   "id": "55c7d4a5",
   "metadata": {},
   "source": [
    "Connect an SQLAlchemy application to Neon\n",
    "https://neon.tech/docs/guides/sqlalchemy\n",
    "\n",
    "Code:\n",
    "\n",
    "https://neon.tech/docs/guides/sqlalchemy#create-an-sqlalchemy-engine-for-your-neon-project\n"
   ]
  },
  {
   "cell_type": "code",
   "execution_count": null,
   "id": "63eca5a5",
   "metadata": {},
   "outputs": [],
   "source": [
    "from sqlalchemy import create_engine"
   ]
  },
  {
   "cell_type": "code",
   "execution_count": null,
   "metadata": {},
   "outputs": [],
   "source": []
  },
  {
   "cell_type": "markdown",
   "id": "3d4263b3",
   "metadata": {},
   "source": []
  }
 ],
 "metadata": {
  "kernelspec": {
   "display_name": "python12",
   "language": "python",
   "name": "python3"
  },
  "language_info": {
   "name": "python",
   "version": "3.12.0"
  }
 },
 "nbformat": 4,
 "nbformat_minor": 5
}
