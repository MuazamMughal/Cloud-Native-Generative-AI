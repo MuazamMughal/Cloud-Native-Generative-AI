{
 "cells": [
  {
   "cell_type": "markdown",
   "id": "55c7d4a5",
   "metadata": {},
   "source": [
    "Connect an SQLAlchemy application to Neon\n",
    "https://neon.tech/docs/guides/sqlalchemy\n",
    "\n",
    "Code:\n",
    "\n",
    "https://neon.tech/docs/guides/sqlalchemy#create-an-sqlalchemy-engine-for-your-neon-project\n"
   ]
  },
  {
   "cell_type": "code",
   "execution_count": 4,
   "id": "63eca5a5",
   "metadata": {},
   "outputs": [],
   "source": [
    "from sqlalchemy import create_engine\n",
    "#we have to install the mysqlclient package to use the MySQLdb module"
   ]
  },
  {
   "cell_type": "markdown",
   "id": "1fe2647b",
   "metadata": {},
   "source": [
    "Establishing Connectivity - the Engine"
   ]
  },
  {
   "cell_type": "markdown",
   "id": "5eaa779c",
   "metadata": {},
   "source": [
    "https://docs.sqlalchemy.org/en/20/tutorial/engine.html\n",
    "\n",
    "Get the Connection String\n",
    "Create a new project: https://console.neon.tech/app/projects/\n",
    "\n",
    "Select the new project, and go to Dashboad and copy connection string from here:"
   ]
  },
  {
   "cell_type": "code",
   "execution_count": null,
   "metadata": {},
   "outputs": [],
   "source": []
  },
  {
   "cell_type": "markdown",
   "id": "3d4263b3",
   "metadata": {},
   "source": []
  }
 ],
 "metadata": {
  "kernelspec": {
   "display_name": "python12",
   "language": "python",
   "name": "python3"
  },
  "language_info": {
   "codemirror_mode": {
    "name": "ipython",
    "version": 3
   },
   "file_extension": ".py",
   "mimetype": "text/x-python",
   "name": "python",
   "nbconvert_exporter": "python",
   "pygments_lexer": "ipython3",
   "version": "3.12.0"
  }
 },
 "nbformat": 4,
 "nbformat_minor": 5
}
