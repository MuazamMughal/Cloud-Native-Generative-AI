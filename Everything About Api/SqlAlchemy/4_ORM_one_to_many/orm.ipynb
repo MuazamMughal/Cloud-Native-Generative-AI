{
 "cells": [
  {
   "cell_type": "markdown",
   "id": "1264fd43",
   "metadata": {},
   "source": [
    "\n",
    "## ORM: One-to-Many Relationships with SQLAlchemy"
   ]
  },
  {
   "cell_type": "markdown",
   "metadata": {},
   "source": [
    "https://docs.sqlalchemy.org/en/20/orm/quickstart.html\n",
    "\n",
    "Watch Video Tutorial\n",
    "\n",
    "https://github.com/jod35/OnetoMany-SQLALCHEMY2.0/blob/main/README.md"
   ]
  },
  {
   "cell_type": "code",
   "execution_count": 1,
   "id": "589a1157",
   "metadata": {},
   "outputs": [
    {
     "data": {
      "text/plain": [
       "'\\ntable programs\\n    - id int pk\\n    - name str\\n    - years_of_study\\n\\ntable courses\\n    - id int pk\\n    - title\\n    - code\\n    - program_id => fk => programs.id\\n'"
      ]
     },
     "execution_count": 1,
     "metadata": {},
     "output_type": "execute_result"
    }
   ],
   "source": [
    "from sqlalchemy.orm import DeclarativeBase, Mapped, mapped_column, relationship\n",
    "from sqlalchemy import ForeignKey\n",
    "\n",
    "\"\"\"\n",
    "table programs\n",
    "    - id int pk\n",
    "    - name str\n",
    "    - years_of_study\n",
    "\n",
    "table courses\n",
    "    - id int pk\n",
    "    - title\n",
    "    - code\n",
    "    - program_id => fk => programs.id\n",
    "\"\"\""
   ]
  },
  {
   "cell_type": "markdown",
   "id": "0eb64aec",
   "metadata": {},
   "source": [
    "Create Model"
   ]
  },
  {
   "cell_type": "markdown",
   "metadata": {},
   "source": []
  },
  {
   "cell_type": "markdown",
   "id": "c6216a5d",
   "metadata": {},
   "source": []
  }
 ],
 "metadata": {
  "kernelspec": {
   "display_name": "python12",
   "language": "python",
   "name": "python3"
  },
  "language_info": {
   "codemirror_mode": {
    "name": "ipython",
    "version": 3
   },
   "file_extension": ".py",
   "mimetype": "text/x-python",
   "name": "python",
   "nbconvert_exporter": "python",
   "pygments_lexer": "ipython3",
   "version": "3.12.0"
  }
 },
 "nbformat": 4,
 "nbformat_minor": 5
}
