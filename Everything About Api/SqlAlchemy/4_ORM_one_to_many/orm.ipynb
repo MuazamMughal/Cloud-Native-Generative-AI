{
 "cells": [
  {
   "cell_type": "markdown",
   "id": "1264fd43",
   "metadata": {},
   "source": [
    "\n",
    "## ORM: One-to-Many Relationships with SQLAlchemy"
   ]
  },
  {
   "cell_type": "markdown",
   "metadata": {},
   "source": []
  }
 ],
 "metadata": {
  "language_info": {
   "name": "python"
  }
 },
 "nbformat": 4,
 "nbformat_minor": 5
}
