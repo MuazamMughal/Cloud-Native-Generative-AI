{
 "cells": [
  {
   "cell_type": "markdown",
   "id": "2dfd3980",
   "metadata": {},
   "source": [
    "\n",
    "https://docs.pydantic.dev/latest/concepts/validators/"
   ]
  },
  {
   "cell_type": "code",
   "execution_count": 1,
   "id": "4d8b7484",
   "metadata": {},
   "outputs": [
    {
     "name": "stdout",
     "output_type": "stream",
     "text": [
      "datetime.datetime(2020, 1, 2, 3, 4, 5, tzinfo=TzInfo(UTC))\n",
      "(10, 20)\n"
     ]
    }
   ],
   "source": [
    "from datetime import datetime\n",
    "from typing import Tuple\n",
    "\n",
    "from pydantic import BaseModel\n",
    "\n",
    "\n",
    "class Delivery(BaseModel):\n",
    "    timestamp: datetime\n",
    "    dimensions: Tuple[int, int]\n",
    "\n",
    "\n",
    "m = Delivery(timestamp='2020-01-02T03:04:05Z', dimensions=[10, '20'])\n",
    "print(repr(m.timestamp))\n",
    "#> datetime.datetime(2020, 1, 2, 3, 4, 5, tzinfo=TzInfo(UTC))\n",
    "print(m.dimensions)\n",
    "#> (10, 20)"
   ]
  },
  {
   "cell_type": "code",
   "execution_count": 2,
   "id": "11d70b91",
   "metadata": {},
   "outputs": [
    {
     "name": "stdout",
     "output_type": "stream",
     "text": [
      "number=[4, 16]\n",
      "1 validation error for DemoModel\n",
      "number.1\n",
      "  Assertion failed, 8 is not a square number [type=assertion_error, input_value=4, input_type=int]\n",
      "    For further information visit https://errors.pydantic.dev/2.5/v/assertion_error\n"
     ]
    }
   ],
   "source": [
    "from typing import Any, List\n",
    "\n",
    "from typing_extensions import Annotated\n",
    "\n",
    "from pydantic import BaseModel, ValidationError\n",
    "from pydantic.functional_validators import AfterValidator\n",
    "\n",
    "\n",
    "def check_squares(v: int) -> int:\n",
    "    assert v**0.5 % 1 == 0, f'{v} is not a square number'\n",
    "    return v\n",
    "\n",
    "\n",
    "def double(v: Any) -> Any:\n",
    "    return v * 2\n",
    "\n",
    "\n",
    "MyNumber = Annotated[int, AfterValidator(double), AfterValidator(check_squares)]\n",
    "\n",
    "\n",
    "class DemoModel(BaseModel):\n",
    "    number: List[MyNumber]\n",
    "\n",
    "\n",
    "print(DemoModel(number=[2, 8]))\n",
    "#> number=[4, 16]\n",
    "try:\n",
    "    DemoModel(number=[2, 4])\n",
    "except ValidationError as e:\n",
    "    print(e)\n",
    "    \"\"\"\n",
    "    1 validation error for DemoModel\n",
    "    number.1\n",
    "      Assertion failed, 8 is not a square number\n",
    "    assert ((8 ** 0.5) % 1) == 0 [type=assertion_error, input_value=4, input_type=int]\n",
    "    \"\"\""
   ]
  },
  {
   "cell_type": "code",
   "execution_count": 3,
   "id": "5b702ea8",
   "metadata": {},
   "outputs": [
    {
     "ename": "ValidationError",
     "evalue": "1 validation error for Blog\ntitle\n  String should have at least 5 characters [type=string_too_short, input_value='hi', input_type=str]\n    For further information visit https://errors.pydantic.dev/2.5/v/string_too_short",
     "output_type": "error",
     "traceback": [
      "\u001b[1;31m---------------------------------------------------------------------------\u001b[0m",
      "\u001b[1;31mValidationError\u001b[0m                           Traceback (most recent call last)",
      "Cell \u001b[1;32mIn[3], line 7\u001b[0m\n\u001b[0;32m      4\u001b[0m     title: \u001b[38;5;28mstr\u001b[39m \u001b[38;5;241m=\u001b[39m Field(\u001b[38;5;241m.\u001b[39m\u001b[38;5;241m.\u001b[39m\u001b[38;5;241m.\u001b[39m,min_length\u001b[38;5;241m=\u001b[39m\u001b[38;5;241m5\u001b[39m)\n\u001b[0;32m      5\u001b[0m     is_active: \u001b[38;5;28mbool\u001b[39m\n\u001b[1;32m----> 7\u001b[0m \u001b[43mBlog\u001b[49m\u001b[43m(\u001b[49m\u001b[43mtitle\u001b[49m\u001b[38;5;241;43m=\u001b[39;49m\u001b[38;5;124;43m\"\u001b[39;49m\u001b[38;5;124;43mhi\u001b[39;49m\u001b[38;5;124;43m\"\u001b[39;49m\u001b[43m,\u001b[49m\u001b[43mis_active\u001b[49m\u001b[38;5;241;43m=\u001b[39;49m\u001b[38;5;28;43;01mFalse\u001b[39;49;00m\u001b[43m)\u001b[49m\n",
      "File \u001b[1;32mc:\\Users\\Muazam Mughal\\anaconda3\\envs\\python12\\Lib\\site-packages\\pydantic\\main.py:164\u001b[0m, in \u001b[0;36mBaseModel.__init__\u001b[1;34m(__pydantic_self__, **data)\u001b[0m\n\u001b[0;32m    162\u001b[0m \u001b[38;5;66;03m# `__tracebackhide__` tells pytest and some other tools to omit this function from tracebacks\u001b[39;00m\n\u001b[0;32m    163\u001b[0m __tracebackhide__ \u001b[38;5;241m=\u001b[39m \u001b[38;5;28;01mTrue\u001b[39;00m\n\u001b[1;32m--> 164\u001b[0m \u001b[43m__pydantic_self__\u001b[49m\u001b[38;5;241;43m.\u001b[39;49m\u001b[43m__pydantic_validator__\u001b[49m\u001b[38;5;241;43m.\u001b[39;49m\u001b[43mvalidate_python\u001b[49m\u001b[43m(\u001b[49m\u001b[43mdata\u001b[49m\u001b[43m,\u001b[49m\u001b[43m \u001b[49m\u001b[43mself_instance\u001b[49m\u001b[38;5;241;43m=\u001b[39;49m\u001b[43m__pydantic_self__\u001b[49m\u001b[43m)\u001b[49m\n",
      "\u001b[1;31mValidationError\u001b[0m: 1 validation error for Blog\ntitle\n  String should have at least 5 characters [type=string_too_short, input_value='hi', input_type=str]\n    For further information visit https://errors.pydantic.dev/2.5/v/string_too_short"
     ]
    }
   ],
   "source": [
    "from pydantic import BaseModel, Field\n",
    "\n",
    "class Blog(BaseModel):\n",
    "    title: str = Field(...,min_length=5)\n",
    "    is_active: bool\n",
    "\n",
    "Blog(title=\"hi\",is_active=False)"
   ]
  },
  {
   "cell_type": "markdown",
   "id": "d9a75eb2",
   "metadata": {},
   "source": []
  }
 ],
 "metadata": {
  "kernelspec": {
   "display_name": "python12",
   "language": "python",
   "name": "python3"
  },
  "language_info": {
   "codemirror_mode": {
    "name": "ipython",
    "version": 3
   },
   "file_extension": ".py",
   "mimetype": "text/x-python",
   "name": "python",
   "nbconvert_exporter": "python",
   "pygments_lexer": "ipython3",
   "version": "3.12.0"
  }
 },
 "nbformat": 4,
 "nbformat_minor": 5
}
