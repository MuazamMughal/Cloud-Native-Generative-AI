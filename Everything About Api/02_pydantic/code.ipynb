{
 "cells": [
  {
   "cell_type": "code",
   "execution_count": null,
   "id": "20487cf8",
   "metadata": {},
   "outputs": [],
   "source": [
    "from datetime import datetime\n",
    "from typing import Tuple\n",
    "\n",
    "from pydantic import BaseModel\n",
    "\n",
    "\n",
    "class Delivery(BaseModel):\n",
    "    timestamp: datetime\n",
    "    dimensions: Tuple[int, int]\n",
    "\n",
    "\n",
    "m = Delivery(timestamp='2020-01-02T03:04:05Z', dimensions=['10', '20'])\n",
    "\n",
    "print(repr(m.timestamp))\n",
    "#> datetime.datetime(2020, 1, 2, 3, 4, 5, tzinfo=TzInfo(UTC))\n",
    "print(m.dimensions)\n",
    "#> (10, 20)"
   ]
  },
  {
   "cell_type": "markdown",
   "id": "43f23219",
   "metadata": {},
   "source": []
  }
 ],
 "metadata": {
  "kernelspec": {
   "display_name": "python12",
   "language": "python",
   "name": "python3"
  },
  "language_info": {
   "name": "python",
   "version": "3.12.0"
  }
 },
 "nbformat": 4,
 "nbformat_minor": 5
}
