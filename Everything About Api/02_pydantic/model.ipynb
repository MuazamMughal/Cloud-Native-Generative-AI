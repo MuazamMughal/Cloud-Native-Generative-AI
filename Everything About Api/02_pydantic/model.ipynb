{
 "cells": [
  {
   "cell_type": "markdown",
   "id": "eaa93195",
   "metadata": {},
   "source": [
    "### Pydantic: Data validation using Python type hints\n",
    "We will learn how to get started with Pydantic, a data validation library for Python based on type annotations.\n",
    "\n",
    "Watch this Video Tutorial:\n",
    "\n",
    "Pydantic Tutorial • Solving Python's Biggest Problem"
   ]
  },
  {
   "cell_type": "code",
   "execution_count": 4,
   "id": "b2ace17f",
   "metadata": {},
   "outputs": [],
   "source": [
    "from pydantic import BaseModel, EmailStr, validator"
   ]
  },
  {
   "cell_type": "code",
   "execution_count": 1,
   "id": "078acf15",
   "metadata": {},
   "outputs": [
    {
     "name": "stderr",
     "output_type": "stream",
     "text": [
      "C:\\Users\\Muazam Mughal\\AppData\\Local\\Temp\\ipykernel_9676\\2103278057.py:8: PydanticDeprecatedSince20: Pydantic V1 style `@validator` validators are deprecated. You should migrate to Pydantic V2 style `@field_validator` validators, see the migration guide for more details. Deprecated in Pydantic V2.0 to be removed in V3.0. See Pydantic V2 Migration Guide at https://errors.pydantic.dev/2.5/migration/\n",
      "  @validator('account_id')\n"
     ]
    },
    {
     "ename": "ValidationError",
     "evalue": "1 validation error for User\naccount_id\n  Value error, Account ID must be Positive: -200 [type=value_error, input_value=-200, input_type=int]\n    For further information visit https://errors.pydantic.dev/2.5/v/value_error",
     "output_type": "error",
     "traceback": [
      "\u001b[1;31m---------------------------------------------------------------------------\u001b[0m",
      "\u001b[1;31mValidationError\u001b[0m                           Traceback (most recent call last)",
      "Cell \u001b[1;32mIn[1], line 15\u001b[0m\n\u001b[0;32m     12\u001b[0m             \u001b[38;5;28;01mraise\u001b[39;00m \u001b[38;5;167;01mValueError\u001b[39;00m(\u001b[38;5;124mf\u001b[39m\u001b[38;5;124m\"\u001b[39m\u001b[38;5;124mAccount ID must be Positive: \u001b[39m\u001b[38;5;132;01m{\u001b[39;00mvalue\u001b[38;5;132;01m}\u001b[39;00m\u001b[38;5;124m\"\u001b[39m)\n\u001b[0;32m     13\u001b[0m         \u001b[38;5;28;01mreturn\u001b[39;00m value\n\u001b[1;32m---> 15\u001b[0m user1: User \u001b[38;5;241m=\u001b[39m \u001b[43mUser\u001b[49m\u001b[43m(\u001b[49m\u001b[43mname\u001b[49m\u001b[38;5;241;43m=\u001b[39;49m\u001b[38;5;124;43m\"\u001b[39;49m\u001b[38;5;124;43mZia Khan\u001b[39;49m\u001b[38;5;124;43m\"\u001b[39;49m\u001b[43m,\u001b[49m\u001b[43m \u001b[49m\u001b[43memail\u001b[49m\u001b[38;5;241;43m=\u001b[39;49m\u001b[38;5;124;43m\"\u001b[39;49m\u001b[38;5;124;43mzia@panacloud.org\u001b[39;49m\u001b[38;5;124;43m\"\u001b[39;49m\u001b[43m,\u001b[49m\u001b[43m \u001b[49m\u001b[43maccount_id\u001b[49m\u001b[38;5;241;43m=\u001b[39;49m\u001b[38;5;241;43m-\u001b[39;49m\u001b[38;5;241;43m200\u001b[39;49m\u001b[43m)\u001b[49m\n\u001b[0;32m     17\u001b[0m user_json_str: \u001b[38;5;28mstr\u001b[39m \u001b[38;5;241m=\u001b[39m user1\u001b[38;5;241m.\u001b[39mmodel_dump_json()\n\u001b[0;32m     18\u001b[0m \u001b[38;5;28mprint\u001b[39m(user_json_str, \u001b[38;5;28mtype\u001b[39m(user_json_str))\n",
      "File \u001b[1;32mc:\\Users\\Muazam Mughal\\anaconda3\\envs\\python12\\Lib\\site-packages\\pydantic\\main.py:164\u001b[0m, in \u001b[0;36mBaseModel.__init__\u001b[1;34m(__pydantic_self__, **data)\u001b[0m\n\u001b[0;32m    162\u001b[0m \u001b[38;5;66;03m# `__tracebackhide__` tells pytest and some other tools to omit this function from tracebacks\u001b[39;00m\n\u001b[0;32m    163\u001b[0m __tracebackhide__ \u001b[38;5;241m=\u001b[39m \u001b[38;5;28;01mTrue\u001b[39;00m\n\u001b[1;32m--> 164\u001b[0m \u001b[43m__pydantic_self__\u001b[49m\u001b[38;5;241;43m.\u001b[39;49m\u001b[43m__pydantic_validator__\u001b[49m\u001b[38;5;241;43m.\u001b[39;49m\u001b[43mvalidate_python\u001b[49m\u001b[43m(\u001b[49m\u001b[43mdata\u001b[49m\u001b[43m,\u001b[49m\u001b[43m \u001b[49m\u001b[43mself_instance\u001b[49m\u001b[38;5;241;43m=\u001b[39;49m\u001b[43m__pydantic_self__\u001b[49m\u001b[43m)\u001b[49m\n",
      "\u001b[1;31mValidationError\u001b[0m: 1 validation error for User\naccount_id\n  Value error, Account ID must be Positive: -200 [type=value_error, input_value=-200, input_type=int]\n    For further information visit https://errors.pydantic.dev/2.5/v/value_error"
     ]
    }
   ],
   "source": [
    "from pydantic import BaseModel, EmailStr, validator\n",
    "\n",
    "class User(BaseModel):\n",
    "    name: str\n",
    "    email: EmailStr\n",
    "    account_id: int\n",
    "\n",
    "    @validator('account_id')\n",
    "    def validate_account_id(cls, value:int):\n",
    "\n",
    "        if value <= 0:\n",
    "            raise ValueError(f\"Account ID must be Positive: {value}\")\n",
    "        return value\n",
    "    \n",
    "user1: User = User(name=\"Zia Khan\", email=\"zia@panacloud.org\", account_id=-200)\n",
    "\n",
    "user_json_str: str = user1.model_dump_json()\n",
    "print(user_json_str, type(user_json_str))\n",
    "\n",
    "user_obj : User = User.model_validate_json(user_json_str)\n",
    "print(user_obj)"
   ]
  },
  {
   "cell_type": "markdown",
   "id": "57b74523",
   "metadata": {},
   "source": [
    "create Model"
   ]
  },
  {
   "cell_type": "code",
   "execution_count": 2,
   "id": "c3d37bd9",
   "metadata": {},
   "outputs": [],
   "source": [
    "class User(BaseModel):\n",
    "    name: str\n",
    "    email: EmailStr\n",
    "    account_id: int\n",
    "\n",
    "    def validate_account_id(cls, value:int):\n",
    "        if(value <= 0):\n",
    "            raise ValueError(f\"Account ID must be Positive: {value}\")\n",
    "        return value"
   ]
  },
  {
   "cell_type": "code",
   "execution_count": 3,
   "id": "990b02ef",
   "metadata": {},
   "outputs": [
    {
     "name": "stdout",
     "output_type": "stream",
     "text": [
      "name='Zia Khan' email='zia@panacloud.com' account_id=1234\n"
     ]
    }
   ],
   "source": [
    "user: User = User(name=\"Zia Khan\", email=\"zia@panacloud.com\", account_id=1234)\n",
    "print(user)"
   ]
  },
  {
   "cell_type": "code",
   "execution_count": 4,
   "id": "0b8f7738",
   "metadata": {},
   "outputs": [
    {
     "name": "stdout",
     "output_type": "stream",
     "text": [
      "name='Zia Khan' email='zia@panacloud.com' account_id=-10\n"
     ]
    }
   ],
   "source": [
    "user1: User = User(name=\"Zia Khan\", email=\"zia@panacloud.com\", account_id=-10)\n",
    "print(user1)"
   ]
  },
  {
   "cell_type": "markdown",
   "id": "564a65b4",
   "metadata": {},
   "source": []
  }
 ],
 "metadata": {
  "kernelspec": {
   "display_name": "python12",
   "language": "python",
   "name": "python3"
  },
  "language_info": {
   "codemirror_mode": {
    "name": "ipython",
    "version": 3
   },
   "file_extension": ".py",
   "mimetype": "text/x-python",
   "name": "python",
   "nbconvert_exporter": "python",
   "pygments_lexer": "ipython3",
   "version": "3.12.0"
  }
 },
 "nbformat": 4,
 "nbformat_minor": 5
}
