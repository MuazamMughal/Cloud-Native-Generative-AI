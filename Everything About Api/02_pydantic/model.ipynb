{
 "cells": [
  {
   "cell_type": "markdown",
   "id": "eaa93195",
   "metadata": {},
   "source": [
    "### Pydantic: Data validation using Python type hints\n",
    "We will learn how to get started with Pydantic, a data validation library for Python based on type annotations.\n",
    "\n",
    "Watch this Video Tutorial:\n",
    "\n",
    "Pydantic Tutorial • Solving Python's Biggest Problem"
   ]
  },
  {
   "cell_type": "code",
   "execution_count": null,
   "id": "b2ace17f",
   "metadata": {},
   "outputs": [],
   "source": [
    "from pydantic import BaseModel, EmailStr, validator"
   ]
  },
  {
   "cell_type": "markdown",
   "id": "57b74523",
   "metadata": {},
   "source": []
  }
 ],
 "metadata": {
  "kernelspec": {
   "display_name": "python12",
   "language": "python",
   "name": "python3"
  },
  "language_info": {
   "name": "python",
   "version": "3.12.0"
  }
 },
 "nbformat": 4,
 "nbformat_minor": 5
}
