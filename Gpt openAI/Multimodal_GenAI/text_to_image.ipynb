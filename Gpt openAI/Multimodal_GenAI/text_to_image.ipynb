{
 "cells": [
  {
   "cell_type": "markdown",
   "id": "d8082224",
   "metadata": {},
   "source": [
    "## Introduction\n",
    "The Images API provides three methods for interacting with images:\n",
    "\n",
    "Creating images from scratch based on a text prompt (DALL·E 3 and DALL·E 2)\n",
    "Creating edited versions of images by having the model replace some areas of a pre-existing image, based on a new text prompt (DALL·E 2 only)\n",
    "Creating variations of an existing image (DALL·E 2 only)\n",
    "This guide covers the basics of using these three API endpoints with useful code samples. To try DALL·E 3, head to ChatGPT. To try DALL·E 2, check out the DALL·E preview app."
   ]
  }
 ],
 "metadata": {
  "language_info": {
   "name": "python"
  }
 },
 "nbformat": 4,
 "nbformat_minor": 5
}
